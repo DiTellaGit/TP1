{
  "cells": [
    {
      "cell_type": "code",
      "execution_count": 1,
      "outputs": [],
      "source": "\nimport sys\ndef esPrimo(n):\n    i \u003d 2\n    esprimo\u003d \"si\"\n    while i \u003c\u003d n/2:\n        if n % i \u003d\u003d 0:\n            esprimo\u003d \"no\"\n            break \n        else:\n            i +\u003d 1\n    return esprimo\n            \ndef iesimoPrimo(i):\n    listaprimos\u003d[]\n    contar \u003d 2 \n    while len(listaprimos) \u003c i:\n        if esPrimo(contar) \u003d\u003d \"si\":\n            listaprimos.append(contar)\n        contar +\u003d 1\n        \n    return listaprimos[i-1]\n        \ndef cantidadDivisoresPrimos(n):\n    i \u003d 1\n    contar \u003d 0\n    while iesimoPrimo(i) \u003c\u003d n/2:\n        if n % iesimoPrimo(i)\u003d\u003d 0:\n            contar +\u003d 1\n            i +\u003d 1\n        else:\n            i +\u003d 1\n    return  contar       \n\ndef iesimoDivisorPrimo(n, i):\n    m \u003d 0\n    c \u003d 1\n    if i \u003c\u003d cantidadDivisoresPrimos(n):\n        while m \u003c i:\n            if n % iesimoPrimo(c) \u003d\u003d 0:\n                c +\u003d 1\n                m +\u003d 1\n            else:\n                c +\u003d1\n            return iesimoPrimo(c-1)\n    else:\n        return str(n)+\" no tiene \"+str(i)+\" divisores primos\"\n\ndef primeraLaguna(n):\n    i \u003d 2\n    laguna \u003d iesimoPrimo(i) - iesimoPrimo(i-1) -1\n    if n % 2 !\u003d0:\n        while laguna \u003c n:\n            i +\u003d 1\n            laguna \u003d iesimoPrimo(i) - iesimoPrimo(i-1) -1\n        return iesimoPrimo(i-1) + 1\n    else:\n        return \"no existen lagunas de numeros pares\"\n",
      "metadata": {
        "pycharm": {
          "metadata": false,
          "name": "#%%\n",
          "is_executing": false
        }
      }
    },
    {
      "cell_type": "code",
      "execution_count": 2,
      "outputs": [
        {
          "name": "stdout",
          "text": [
            "2\n"
          ],
          "output_type": "stream"
        }
      ],
      "source": "\nif __name__ \u003d\u003d \"__main__\":\n    #sys.argv[2](sys.argv[3])\n\n    esPrimo(104537)\n    iesimoPrimo(4)\n    print(cantidadDivisoresPrimos(15))\n    iesimoDivisorPrimo(5, 1)\n    primeraLaguna(33)",
      "metadata": {
        "pycharm": {
          "metadata": false,
          "name": "#%%\n",
          "is_executing": false
        }
      }
    }
  ],
  "metadata": {
    "language_info": {
      "codemirror_mode": {
        "name": "ipython",
        "version": 2
      },
      "file_extension": ".py",
      "mimetype": "text/x-python",
      "name": "python",
      "nbconvert_exporter": "python",
      "pygments_lexer": "ipython2",
      "version": "2.7.6"
    },
    "kernelspec": {
      "name": "python3",
      "language": "python",
      "display_name": "Python 3"
    },
    "stem_cell": {
      "cell_type": "raw",
      "source": "#!/usr/bin/env python3\n# -*- coding: utf-8 -*-\n\"\"\"\nCreated on Mon Apr  1 00:07:13 2019\n\n@author: mat\n\"\"\"",
      "metadata": {
        "pycharm": {
          "metadata": false
        }
      }
    }
  },
  "nbformat": 4,
  "nbformat_minor": 0
}